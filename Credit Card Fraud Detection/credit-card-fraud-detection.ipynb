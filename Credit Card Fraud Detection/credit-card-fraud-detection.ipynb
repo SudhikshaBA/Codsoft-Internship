{
 "cells": [
  {
   "cell_type": "markdown",
   "id": "6eed15bf-f41d-471a-a894-d21e6d934977",
   "metadata": {},
   "source": [
    "Import Library"
   ]
  },
  {
   "cell_type": "code",
   "execution_count": 1,
   "id": "0afbf9a9",
   "metadata": {
    "papermill": {
     "duration": 3.688444,
     "end_time": "2023-09-10T19:34:28.585218",
     "exception": false,
     "start_time": "2023-09-10T19:34:24.896774",
     "status": "completed"
    },
    "tags": []
   },
   "outputs": [],
   "source": [
    "import pandas as pd\n",
    "from datetime import datetime\n",
    "import seaborn as sns\n",
    "import matplotlib.pyplot as plt\n",
    "from imblearn.under_sampling import RandomUnderSampler"
   ]
  },
  {
   "cell_type": "markdown",
   "id": "d329c3d2",
   "metadata": {
    "papermill": {
     "duration": 0.02244,
     "end_time": "2023-09-10T19:34:28.669816",
     "exception": false,
     "start_time": "2023-09-10T19:34:28.647376",
     "status": "completed"
    },
    "tags": []
   },
   "source": [
    "Data Collection   "
   ]
  },
  {
   "cell_type": "code",
   "execution_count": 2,
   "id": "2ae334da",
   "metadata": {
    "papermill": {
     "duration": 23.2211,
     "end_time": "2023-09-10T19:34:51.915354",
     "exception": false,
     "start_time": "2023-09-10T19:34:28.694254",
     "status": "completed"
    },
    "tags": []
   },
   "outputs": [],
   "source": [
    "train_df = pd.read_csv(\"fraudTrain.csv\")\n",
    "test_df = pd.read_csv(\"fraudTest.csv\")"
   ]
  },
  {
   "cell_type": "code",
   "execution_count": 3,
   "id": "6c378542",
   "metadata": {
    "papermill": {
     "duration": 0.099372,
     "end_time": "2023-09-10T19:34:52.036783",
     "exception": false,
     "start_time": "2023-09-10T19:34:51.937411",
     "status": "completed"
    },
    "tags": []
   },
   "outputs": [
    {
     "data": {
      "text/html": [
       "<div>\n",
       "<style scoped>\n",
       "    .dataframe tbody tr th:only-of-type {\n",
       "        vertical-align: middle;\n",
       "    }\n",
       "\n",
       "    .dataframe tbody tr th {\n",
       "        vertical-align: top;\n",
       "    }\n",
       "\n",
       "    .dataframe thead th {\n",
       "        text-align: right;\n",
       "    }\n",
       "</style>\n",
       "<table border=\"1\" class=\"dataframe\">\n",
       "  <thead>\n",
       "    <tr style=\"text-align: right;\">\n",
       "      <th></th>\n",
       "      <th>Unnamed: 0</th>\n",
       "      <th>trans_date_trans_time</th>\n",
       "      <th>cc_num</th>\n",
       "      <th>merchant</th>\n",
       "      <th>category</th>\n",
       "      <th>amt</th>\n",
       "      <th>first</th>\n",
       "      <th>last</th>\n",
       "      <th>gender</th>\n",
       "      <th>street</th>\n",
       "      <th>...</th>\n",
       "      <th>lat</th>\n",
       "      <th>long</th>\n",
       "      <th>city_pop</th>\n",
       "      <th>job</th>\n",
       "      <th>dob</th>\n",
       "      <th>trans_num</th>\n",
       "      <th>unix_time</th>\n",
       "      <th>merch_lat</th>\n",
       "      <th>merch_long</th>\n",
       "      <th>is_fraud</th>\n",
       "    </tr>\n",
       "  </thead>\n",
       "  <tbody>\n",
       "    <tr>\n",
       "      <th>0</th>\n",
       "      <td>0</td>\n",
       "      <td>2019-01-01 00:00:18</td>\n",
       "      <td>2703186189652095</td>\n",
       "      <td>fraud_Rippin, Kub and Mann</td>\n",
       "      <td>misc_net</td>\n",
       "      <td>4.97</td>\n",
       "      <td>Jennifer</td>\n",
       "      <td>Banks</td>\n",
       "      <td>F</td>\n",
       "      <td>561 Perry Cove</td>\n",
       "      <td>...</td>\n",
       "      <td>36.0788</td>\n",
       "      <td>-81.1781</td>\n",
       "      <td>3495</td>\n",
       "      <td>Psychologist, counselling</td>\n",
       "      <td>1988-03-09</td>\n",
       "      <td>0b242abb623afc578575680df30655b9</td>\n",
       "      <td>1325376018</td>\n",
       "      <td>36.011293</td>\n",
       "      <td>-82.048315</td>\n",
       "      <td>0</td>\n",
       "    </tr>\n",
       "    <tr>\n",
       "      <th>1</th>\n",
       "      <td>1</td>\n",
       "      <td>2019-01-01 00:00:44</td>\n",
       "      <td>630423337322</td>\n",
       "      <td>fraud_Heller, Gutmann and Zieme</td>\n",
       "      <td>grocery_pos</td>\n",
       "      <td>107.23</td>\n",
       "      <td>Stephanie</td>\n",
       "      <td>Gill</td>\n",
       "      <td>F</td>\n",
       "      <td>43039 Riley Greens Suite 393</td>\n",
       "      <td>...</td>\n",
       "      <td>48.8878</td>\n",
       "      <td>-118.2105</td>\n",
       "      <td>149</td>\n",
       "      <td>Special educational needs teacher</td>\n",
       "      <td>1978-06-21</td>\n",
       "      <td>1f76529f8574734946361c461b024d99</td>\n",
       "      <td>1325376044</td>\n",
       "      <td>49.159047</td>\n",
       "      <td>-118.186462</td>\n",
       "      <td>0</td>\n",
       "    </tr>\n",
       "    <tr>\n",
       "      <th>2</th>\n",
       "      <td>2</td>\n",
       "      <td>2019-01-01 00:00:51</td>\n",
       "      <td>38859492057661</td>\n",
       "      <td>fraud_Lind-Buckridge</td>\n",
       "      <td>entertainment</td>\n",
       "      <td>220.11</td>\n",
       "      <td>Edward</td>\n",
       "      <td>Sanchez</td>\n",
       "      <td>M</td>\n",
       "      <td>594 White Dale Suite 530</td>\n",
       "      <td>...</td>\n",
       "      <td>42.1808</td>\n",
       "      <td>-112.2620</td>\n",
       "      <td>4154</td>\n",
       "      <td>Nature conservation officer</td>\n",
       "      <td>1962-01-19</td>\n",
       "      <td>a1a22d70485983eac12b5b88dad1cf95</td>\n",
       "      <td>1325376051</td>\n",
       "      <td>43.150704</td>\n",
       "      <td>-112.154481</td>\n",
       "      <td>0</td>\n",
       "    </tr>\n",
       "    <tr>\n",
       "      <th>3</th>\n",
       "      <td>3</td>\n",
       "      <td>2019-01-01 00:01:16</td>\n",
       "      <td>3534093764340240</td>\n",
       "      <td>fraud_Kutch, Hermiston and Farrell</td>\n",
       "      <td>gas_transport</td>\n",
       "      <td>45.00</td>\n",
       "      <td>Jeremy</td>\n",
       "      <td>White</td>\n",
       "      <td>M</td>\n",
       "      <td>9443 Cynthia Court Apt. 038</td>\n",
       "      <td>...</td>\n",
       "      <td>46.2306</td>\n",
       "      <td>-112.1138</td>\n",
       "      <td>1939</td>\n",
       "      <td>Patent attorney</td>\n",
       "      <td>1967-01-12</td>\n",
       "      <td>6b849c168bdad6f867558c3793159a81</td>\n",
       "      <td>1325376076</td>\n",
       "      <td>47.034331</td>\n",
       "      <td>-112.561071</td>\n",
       "      <td>0</td>\n",
       "    </tr>\n",
       "    <tr>\n",
       "      <th>4</th>\n",
       "      <td>4</td>\n",
       "      <td>2019-01-01 00:03:06</td>\n",
       "      <td>375534208663984</td>\n",
       "      <td>fraud_Keeling-Crist</td>\n",
       "      <td>misc_pos</td>\n",
       "      <td>41.96</td>\n",
       "      <td>Tyler</td>\n",
       "      <td>Garcia</td>\n",
       "      <td>M</td>\n",
       "      <td>408 Bradley Rest</td>\n",
       "      <td>...</td>\n",
       "      <td>38.4207</td>\n",
       "      <td>-79.4629</td>\n",
       "      <td>99</td>\n",
       "      <td>Dance movement psychotherapist</td>\n",
       "      <td>1986-03-28</td>\n",
       "      <td>a41d7549acf90789359a9aa5346dcb46</td>\n",
       "      <td>1325376186</td>\n",
       "      <td>38.674999</td>\n",
       "      <td>-78.632459</td>\n",
       "      <td>0</td>\n",
       "    </tr>\n",
       "  </tbody>\n",
       "</table>\n",
       "<p>5 rows × 23 columns</p>\n",
       "</div>"
      ],
      "text/plain": [
       "   Unnamed: 0 trans_date_trans_time            cc_num  \\\n",
       "0           0   2019-01-01 00:00:18  2703186189652095   \n",
       "1           1   2019-01-01 00:00:44      630423337322   \n",
       "2           2   2019-01-01 00:00:51    38859492057661   \n",
       "3           3   2019-01-01 00:01:16  3534093764340240   \n",
       "4           4   2019-01-01 00:03:06   375534208663984   \n",
       "\n",
       "                             merchant       category     amt      first  \\\n",
       "0          fraud_Rippin, Kub and Mann       misc_net    4.97   Jennifer   \n",
       "1     fraud_Heller, Gutmann and Zieme    grocery_pos  107.23  Stephanie   \n",
       "2                fraud_Lind-Buckridge  entertainment  220.11     Edward   \n",
       "3  fraud_Kutch, Hermiston and Farrell  gas_transport   45.00     Jeremy   \n",
       "4                 fraud_Keeling-Crist       misc_pos   41.96      Tyler   \n",
       "\n",
       "      last gender                        street  ...      lat      long  \\\n",
       "0    Banks      F                561 Perry Cove  ...  36.0788  -81.1781   \n",
       "1     Gill      F  43039 Riley Greens Suite 393  ...  48.8878 -118.2105   \n",
       "2  Sanchez      M      594 White Dale Suite 530  ...  42.1808 -112.2620   \n",
       "3    White      M   9443 Cynthia Court Apt. 038  ...  46.2306 -112.1138   \n",
       "4   Garcia      M              408 Bradley Rest  ...  38.4207  -79.4629   \n",
       "\n",
       "   city_pop                                job         dob  \\\n",
       "0      3495          Psychologist, counselling  1988-03-09   \n",
       "1       149  Special educational needs teacher  1978-06-21   \n",
       "2      4154        Nature conservation officer  1962-01-19   \n",
       "3      1939                    Patent attorney  1967-01-12   \n",
       "4        99     Dance movement psychotherapist  1986-03-28   \n",
       "\n",
       "                          trans_num   unix_time  merch_lat  merch_long  \\\n",
       "0  0b242abb623afc578575680df30655b9  1325376018  36.011293  -82.048315   \n",
       "1  1f76529f8574734946361c461b024d99  1325376044  49.159047 -118.186462   \n",
       "2  a1a22d70485983eac12b5b88dad1cf95  1325376051  43.150704 -112.154481   \n",
       "3  6b849c168bdad6f867558c3793159a81  1325376076  47.034331 -112.561071   \n",
       "4  a41d7549acf90789359a9aa5346dcb46  1325376186  38.674999  -78.632459   \n",
       "\n",
       "   is_fraud  \n",
       "0         0  \n",
       "1         0  \n",
       "2         0  \n",
       "3         0  \n",
       "4         0  \n",
       "\n",
       "[5 rows x 23 columns]"
      ]
     },
     "execution_count": 3,
     "metadata": {},
     "output_type": "execute_result"
    }
   ],
   "source": [
    "train_df.head(5)"
   ]
  },
  {
   "cell_type": "markdown",
   "id": "067d34e8",
   "metadata": {
    "papermill": {
     "duration": 0.023334,
     "end_time": "2023-09-10T19:34:52.086545",
     "exception": false,
     "start_time": "2023-09-10T19:34:52.063211",
     "status": "completed"
    },
    "tags": []
   },
   "source": [
    "Data Preparation"
   ]
  },
  {
   "cell_type": "code",
   "execution_count": 4,
   "id": "75c10d68",
   "metadata": {
    "papermill": {
     "duration": 1.803328,
     "end_time": "2023-09-10T19:34:53.962464",
     "exception": false,
     "start_time": "2023-09-10T19:34:52.159136",
     "status": "completed"
    },
    "tags": []
   },
   "outputs": [
    {
     "name": "stdout",
     "output_type": "stream",
     "text": [
      "<class 'pandas.core.frame.DataFrame'>\n",
      "RangeIndex: 1296675 entries, 0 to 1296674\n",
      "Data columns (total 23 columns):\n",
      " #   Column                 Non-Null Count    Dtype  \n",
      "---  ------                 --------------    -----  \n",
      " 0   Unnamed: 0             1296675 non-null  int64  \n",
      " 1   trans_date_trans_time  1296675 non-null  object \n",
      " 2   cc_num                 1296675 non-null  int64  \n",
      " 3   merchant               1296675 non-null  object \n",
      " 4   category               1296675 non-null  object \n",
      " 5   amt                    1296675 non-null  float64\n",
      " 6   first                  1296675 non-null  object \n",
      " 7   last                   1296675 non-null  object \n",
      " 8   gender                 1296675 non-null  object \n",
      " 9   street                 1296675 non-null  object \n",
      " 10  city                   1296675 non-null  object \n",
      " 11  state                  1296675 non-null  object \n",
      " 12  zip                    1296675 non-null  int64  \n",
      " 13  lat                    1296675 non-null  float64\n",
      " 14  long                   1296675 non-null  float64\n",
      " 15  city_pop               1296675 non-null  int64  \n",
      " 16  job                    1296675 non-null  object \n",
      " 17  dob                    1296675 non-null  object \n",
      " 18  trans_num              1296675 non-null  object \n",
      " 19  unix_time              1296675 non-null  int64  \n",
      " 20  merch_lat              1296675 non-null  float64\n",
      " 21  merch_long             1296675 non-null  float64\n",
      " 22  is_fraud               1296675 non-null  int64  \n",
      "dtypes: float64(5), int64(6), object(12)\n",
      "memory usage: 227.5+ MB\n"
     ]
    }
   ],
   "source": [
    "train_df.info()"
   ]
  },
  {
   "cell_type": "code",
   "execution_count": 5,
   "id": "426ba4b1",
   "metadata": {
    "papermill": {
     "duration": 10.215475,
     "end_time": "2023-09-10T19:35:04.203574",
     "exception": false,
     "start_time": "2023-09-10T19:34:53.988099",
     "status": "completed"
    },
    "tags": []
   },
   "outputs": [
    {
     "data": {
      "text/html": [
       "<div>\n",
       "<style scoped>\n",
       "    .dataframe tbody tr th:only-of-type {\n",
       "        vertical-align: middle;\n",
       "    }\n",
       "\n",
       "    .dataframe tbody tr th {\n",
       "        vertical-align: top;\n",
       "    }\n",
       "\n",
       "    .dataframe thead th {\n",
       "        text-align: right;\n",
       "    }\n",
       "</style>\n",
       "<table border=\"1\" class=\"dataframe\">\n",
       "  <thead>\n",
       "    <tr style=\"text-align: right;\">\n",
       "      <th></th>\n",
       "      <th>Unnamed: 0</th>\n",
       "      <th>trans_date_trans_time</th>\n",
       "      <th>cc_num</th>\n",
       "      <th>merchant</th>\n",
       "      <th>category</th>\n",
       "      <th>amt</th>\n",
       "      <th>first</th>\n",
       "      <th>last</th>\n",
       "      <th>gender</th>\n",
       "      <th>street</th>\n",
       "      <th>...</th>\n",
       "      <th>lat</th>\n",
       "      <th>long</th>\n",
       "      <th>city_pop</th>\n",
       "      <th>job</th>\n",
       "      <th>dob</th>\n",
       "      <th>trans_num</th>\n",
       "      <th>unix_time</th>\n",
       "      <th>merch_lat</th>\n",
       "      <th>merch_long</th>\n",
       "      <th>is_fraud</th>\n",
       "    </tr>\n",
       "  </thead>\n",
       "  <tbody>\n",
       "    <tr>\n",
       "      <th>count</th>\n",
       "      <td>1.296675e+06</td>\n",
       "      <td>1296675</td>\n",
       "      <td>1.296675e+06</td>\n",
       "      <td>1296675</td>\n",
       "      <td>1296675</td>\n",
       "      <td>1.296675e+06</td>\n",
       "      <td>1296675</td>\n",
       "      <td>1296675</td>\n",
       "      <td>1296675</td>\n",
       "      <td>1296675</td>\n",
       "      <td>...</td>\n",
       "      <td>1.296675e+06</td>\n",
       "      <td>1.296675e+06</td>\n",
       "      <td>1.296675e+06</td>\n",
       "      <td>1296675</td>\n",
       "      <td>1296675</td>\n",
       "      <td>1296675</td>\n",
       "      <td>1.296675e+06</td>\n",
       "      <td>1.296675e+06</td>\n",
       "      <td>1.296675e+06</td>\n",
       "      <td>1.296675e+06</td>\n",
       "    </tr>\n",
       "    <tr>\n",
       "      <th>unique</th>\n",
       "      <td>NaN</td>\n",
       "      <td>1274791</td>\n",
       "      <td>NaN</td>\n",
       "      <td>693</td>\n",
       "      <td>14</td>\n",
       "      <td>NaN</td>\n",
       "      <td>352</td>\n",
       "      <td>481</td>\n",
       "      <td>2</td>\n",
       "      <td>983</td>\n",
       "      <td>...</td>\n",
       "      <td>NaN</td>\n",
       "      <td>NaN</td>\n",
       "      <td>NaN</td>\n",
       "      <td>494</td>\n",
       "      <td>968</td>\n",
       "      <td>1296675</td>\n",
       "      <td>NaN</td>\n",
       "      <td>NaN</td>\n",
       "      <td>NaN</td>\n",
       "      <td>NaN</td>\n",
       "    </tr>\n",
       "    <tr>\n",
       "      <th>top</th>\n",
       "      <td>NaN</td>\n",
       "      <td>2019-04-22 16:02:01</td>\n",
       "      <td>NaN</td>\n",
       "      <td>fraud_Kilback LLC</td>\n",
       "      <td>gas_transport</td>\n",
       "      <td>NaN</td>\n",
       "      <td>Christopher</td>\n",
       "      <td>Smith</td>\n",
       "      <td>F</td>\n",
       "      <td>0069 Robin Brooks Apt. 695</td>\n",
       "      <td>...</td>\n",
       "      <td>NaN</td>\n",
       "      <td>NaN</td>\n",
       "      <td>NaN</td>\n",
       "      <td>Film/video editor</td>\n",
       "      <td>1977-03-23</td>\n",
       "      <td>0b242abb623afc578575680df30655b9</td>\n",
       "      <td>NaN</td>\n",
       "      <td>NaN</td>\n",
       "      <td>NaN</td>\n",
       "      <td>NaN</td>\n",
       "    </tr>\n",
       "    <tr>\n",
       "      <th>freq</th>\n",
       "      <td>NaN</td>\n",
       "      <td>4</td>\n",
       "      <td>NaN</td>\n",
       "      <td>4403</td>\n",
       "      <td>131659</td>\n",
       "      <td>NaN</td>\n",
       "      <td>26669</td>\n",
       "      <td>28794</td>\n",
       "      <td>709863</td>\n",
       "      <td>3123</td>\n",
       "      <td>...</td>\n",
       "      <td>NaN</td>\n",
       "      <td>NaN</td>\n",
       "      <td>NaN</td>\n",
       "      <td>9779</td>\n",
       "      <td>5636</td>\n",
       "      <td>1</td>\n",
       "      <td>NaN</td>\n",
       "      <td>NaN</td>\n",
       "      <td>NaN</td>\n",
       "      <td>NaN</td>\n",
       "    </tr>\n",
       "    <tr>\n",
       "      <th>mean</th>\n",
       "      <td>6.483370e+05</td>\n",
       "      <td>NaN</td>\n",
       "      <td>4.171920e+17</td>\n",
       "      <td>NaN</td>\n",
       "      <td>NaN</td>\n",
       "      <td>7.035104e+01</td>\n",
       "      <td>NaN</td>\n",
       "      <td>NaN</td>\n",
       "      <td>NaN</td>\n",
       "      <td>NaN</td>\n",
       "      <td>...</td>\n",
       "      <td>3.853762e+01</td>\n",
       "      <td>-9.022634e+01</td>\n",
       "      <td>8.882444e+04</td>\n",
       "      <td>NaN</td>\n",
       "      <td>NaN</td>\n",
       "      <td>NaN</td>\n",
       "      <td>1.349244e+09</td>\n",
       "      <td>3.853734e+01</td>\n",
       "      <td>-9.022646e+01</td>\n",
       "      <td>5.788652e-03</td>\n",
       "    </tr>\n",
       "    <tr>\n",
       "      <th>std</th>\n",
       "      <td>3.743180e+05</td>\n",
       "      <td>NaN</td>\n",
       "      <td>1.308806e+18</td>\n",
       "      <td>NaN</td>\n",
       "      <td>NaN</td>\n",
       "      <td>1.603160e+02</td>\n",
       "      <td>NaN</td>\n",
       "      <td>NaN</td>\n",
       "      <td>NaN</td>\n",
       "      <td>NaN</td>\n",
       "      <td>...</td>\n",
       "      <td>5.075808e+00</td>\n",
       "      <td>1.375908e+01</td>\n",
       "      <td>3.019564e+05</td>\n",
       "      <td>NaN</td>\n",
       "      <td>NaN</td>\n",
       "      <td>NaN</td>\n",
       "      <td>1.284128e+07</td>\n",
       "      <td>5.109788e+00</td>\n",
       "      <td>1.377109e+01</td>\n",
       "      <td>7.586269e-02</td>\n",
       "    </tr>\n",
       "    <tr>\n",
       "      <th>min</th>\n",
       "      <td>0.000000e+00</td>\n",
       "      <td>NaN</td>\n",
       "      <td>6.041621e+10</td>\n",
       "      <td>NaN</td>\n",
       "      <td>NaN</td>\n",
       "      <td>1.000000e+00</td>\n",
       "      <td>NaN</td>\n",
       "      <td>NaN</td>\n",
       "      <td>NaN</td>\n",
       "      <td>NaN</td>\n",
       "      <td>...</td>\n",
       "      <td>2.002710e+01</td>\n",
       "      <td>-1.656723e+02</td>\n",
       "      <td>2.300000e+01</td>\n",
       "      <td>NaN</td>\n",
       "      <td>NaN</td>\n",
       "      <td>NaN</td>\n",
       "      <td>1.325376e+09</td>\n",
       "      <td>1.902779e+01</td>\n",
       "      <td>-1.666712e+02</td>\n",
       "      <td>0.000000e+00</td>\n",
       "    </tr>\n",
       "    <tr>\n",
       "      <th>25%</th>\n",
       "      <td>3.241685e+05</td>\n",
       "      <td>NaN</td>\n",
       "      <td>1.800429e+14</td>\n",
       "      <td>NaN</td>\n",
       "      <td>NaN</td>\n",
       "      <td>9.650000e+00</td>\n",
       "      <td>NaN</td>\n",
       "      <td>NaN</td>\n",
       "      <td>NaN</td>\n",
       "      <td>NaN</td>\n",
       "      <td>...</td>\n",
       "      <td>3.462050e+01</td>\n",
       "      <td>-9.679800e+01</td>\n",
       "      <td>7.430000e+02</td>\n",
       "      <td>NaN</td>\n",
       "      <td>NaN</td>\n",
       "      <td>NaN</td>\n",
       "      <td>1.338751e+09</td>\n",
       "      <td>3.473357e+01</td>\n",
       "      <td>-9.689728e+01</td>\n",
       "      <td>0.000000e+00</td>\n",
       "    </tr>\n",
       "    <tr>\n",
       "      <th>50%</th>\n",
       "      <td>6.483370e+05</td>\n",
       "      <td>NaN</td>\n",
       "      <td>3.521417e+15</td>\n",
       "      <td>NaN</td>\n",
       "      <td>NaN</td>\n",
       "      <td>4.752000e+01</td>\n",
       "      <td>NaN</td>\n",
       "      <td>NaN</td>\n",
       "      <td>NaN</td>\n",
       "      <td>NaN</td>\n",
       "      <td>...</td>\n",
       "      <td>3.935430e+01</td>\n",
       "      <td>-8.747690e+01</td>\n",
       "      <td>2.456000e+03</td>\n",
       "      <td>NaN</td>\n",
       "      <td>NaN</td>\n",
       "      <td>NaN</td>\n",
       "      <td>1.349250e+09</td>\n",
       "      <td>3.936568e+01</td>\n",
       "      <td>-8.743839e+01</td>\n",
       "      <td>0.000000e+00</td>\n",
       "    </tr>\n",
       "    <tr>\n",
       "      <th>75%</th>\n",
       "      <td>9.725055e+05</td>\n",
       "      <td>NaN</td>\n",
       "      <td>4.642255e+15</td>\n",
       "      <td>NaN</td>\n",
       "      <td>NaN</td>\n",
       "      <td>8.314000e+01</td>\n",
       "      <td>NaN</td>\n",
       "      <td>NaN</td>\n",
       "      <td>NaN</td>\n",
       "      <td>NaN</td>\n",
       "      <td>...</td>\n",
       "      <td>4.194040e+01</td>\n",
       "      <td>-8.015800e+01</td>\n",
       "      <td>2.032800e+04</td>\n",
       "      <td>NaN</td>\n",
       "      <td>NaN</td>\n",
       "      <td>NaN</td>\n",
       "      <td>1.359385e+09</td>\n",
       "      <td>4.195716e+01</td>\n",
       "      <td>-8.023680e+01</td>\n",
       "      <td>0.000000e+00</td>\n",
       "    </tr>\n",
       "    <tr>\n",
       "      <th>max</th>\n",
       "      <td>1.296674e+06</td>\n",
       "      <td>NaN</td>\n",
       "      <td>4.992346e+18</td>\n",
       "      <td>NaN</td>\n",
       "      <td>NaN</td>\n",
       "      <td>2.894890e+04</td>\n",
       "      <td>NaN</td>\n",
       "      <td>NaN</td>\n",
       "      <td>NaN</td>\n",
       "      <td>NaN</td>\n",
       "      <td>...</td>\n",
       "      <td>6.669330e+01</td>\n",
       "      <td>-6.795030e+01</td>\n",
       "      <td>2.906700e+06</td>\n",
       "      <td>NaN</td>\n",
       "      <td>NaN</td>\n",
       "      <td>NaN</td>\n",
       "      <td>1.371817e+09</td>\n",
       "      <td>6.751027e+01</td>\n",
       "      <td>-6.695090e+01</td>\n",
       "      <td>1.000000e+00</td>\n",
       "    </tr>\n",
       "  </tbody>\n",
       "</table>\n",
       "<p>11 rows × 23 columns</p>\n",
       "</div>"
      ],
      "text/plain": [
       "          Unnamed: 0 trans_date_trans_time        cc_num           merchant  \\\n",
       "count   1.296675e+06               1296675  1.296675e+06            1296675   \n",
       "unique           NaN               1274791           NaN                693   \n",
       "top              NaN   2019-04-22 16:02:01           NaN  fraud_Kilback LLC   \n",
       "freq             NaN                     4           NaN               4403   \n",
       "mean    6.483370e+05                   NaN  4.171920e+17                NaN   \n",
       "std     3.743180e+05                   NaN  1.308806e+18                NaN   \n",
       "min     0.000000e+00                   NaN  6.041621e+10                NaN   \n",
       "25%     3.241685e+05                   NaN  1.800429e+14                NaN   \n",
       "50%     6.483370e+05                   NaN  3.521417e+15                NaN   \n",
       "75%     9.725055e+05                   NaN  4.642255e+15                NaN   \n",
       "max     1.296674e+06                   NaN  4.992346e+18                NaN   \n",
       "\n",
       "             category           amt        first     last   gender  \\\n",
       "count         1296675  1.296675e+06      1296675  1296675  1296675   \n",
       "unique             14           NaN          352      481        2   \n",
       "top     gas_transport           NaN  Christopher    Smith        F   \n",
       "freq           131659           NaN        26669    28794   709863   \n",
       "mean              NaN  7.035104e+01          NaN      NaN      NaN   \n",
       "std               NaN  1.603160e+02          NaN      NaN      NaN   \n",
       "min               NaN  1.000000e+00          NaN      NaN      NaN   \n",
       "25%               NaN  9.650000e+00          NaN      NaN      NaN   \n",
       "50%               NaN  4.752000e+01          NaN      NaN      NaN   \n",
       "75%               NaN  8.314000e+01          NaN      NaN      NaN   \n",
       "max               NaN  2.894890e+04          NaN      NaN      NaN   \n",
       "\n",
       "                            street  ...           lat          long  \\\n",
       "count                      1296675  ...  1.296675e+06  1.296675e+06   \n",
       "unique                         983  ...           NaN           NaN   \n",
       "top     0069 Robin Brooks Apt. 695  ...           NaN           NaN   \n",
       "freq                          3123  ...           NaN           NaN   \n",
       "mean                           NaN  ...  3.853762e+01 -9.022634e+01   \n",
       "std                            NaN  ...  5.075808e+00  1.375908e+01   \n",
       "min                            NaN  ...  2.002710e+01 -1.656723e+02   \n",
       "25%                            NaN  ...  3.462050e+01 -9.679800e+01   \n",
       "50%                            NaN  ...  3.935430e+01 -8.747690e+01   \n",
       "75%                            NaN  ...  4.194040e+01 -8.015800e+01   \n",
       "max                            NaN  ...  6.669330e+01 -6.795030e+01   \n",
       "\n",
       "            city_pop                job         dob  \\\n",
       "count   1.296675e+06            1296675     1296675   \n",
       "unique           NaN                494         968   \n",
       "top              NaN  Film/video editor  1977-03-23   \n",
       "freq             NaN               9779        5636   \n",
       "mean    8.882444e+04                NaN         NaN   \n",
       "std     3.019564e+05                NaN         NaN   \n",
       "min     2.300000e+01                NaN         NaN   \n",
       "25%     7.430000e+02                NaN         NaN   \n",
       "50%     2.456000e+03                NaN         NaN   \n",
       "75%     2.032800e+04                NaN         NaN   \n",
       "max     2.906700e+06                NaN         NaN   \n",
       "\n",
       "                               trans_num     unix_time     merch_lat  \\\n",
       "count                            1296675  1.296675e+06  1.296675e+06   \n",
       "unique                           1296675           NaN           NaN   \n",
       "top     0b242abb623afc578575680df30655b9           NaN           NaN   \n",
       "freq                                   1           NaN           NaN   \n",
       "mean                                 NaN  1.349244e+09  3.853734e+01   \n",
       "std                                  NaN  1.284128e+07  5.109788e+00   \n",
       "min                                  NaN  1.325376e+09  1.902779e+01   \n",
       "25%                                  NaN  1.338751e+09  3.473357e+01   \n",
       "50%                                  NaN  1.349250e+09  3.936568e+01   \n",
       "75%                                  NaN  1.359385e+09  4.195716e+01   \n",
       "max                                  NaN  1.371817e+09  6.751027e+01   \n",
       "\n",
       "          merch_long      is_fraud  \n",
       "count   1.296675e+06  1.296675e+06  \n",
       "unique           NaN           NaN  \n",
       "top              NaN           NaN  \n",
       "freq             NaN           NaN  \n",
       "mean   -9.022646e+01  5.788652e-03  \n",
       "std     1.377109e+01  7.586269e-02  \n",
       "min    -1.666712e+02  0.000000e+00  \n",
       "25%    -9.689728e+01  0.000000e+00  \n",
       "50%    -8.743839e+01  0.000000e+00  \n",
       "75%    -8.023680e+01  0.000000e+00  \n",
       "max    -6.695090e+01  1.000000e+00  \n",
       "\n",
       "[11 rows x 23 columns]"
      ]
     },
     "execution_count": 5,
     "metadata": {},
     "output_type": "execute_result"
    }
   ],
   "source": [
    "train_df.describe( include = \"all\")"
   ]
  },
  {
   "cell_type": "code",
   "execution_count": 6,
   "id": "466e069b",
   "metadata": {
    "papermill": {
     "duration": 1.906285,
     "end_time": "2023-09-10T19:35:06.312571",
     "exception": false,
     "start_time": "2023-09-10T19:35:04.406286",
     "status": "completed"
    },
    "tags": []
   },
   "outputs": [
    {
     "data": {
      "text/plain": [
       "Unnamed: 0               0\n",
       "trans_date_trans_time    0\n",
       "cc_num                   0\n",
       "merchant                 0\n",
       "category                 0\n",
       "amt                      0\n",
       "first                    0\n",
       "last                     0\n",
       "gender                   0\n",
       "street                   0\n",
       "city                     0\n",
       "state                    0\n",
       "zip                      0\n",
       "lat                      0\n",
       "long                     0\n",
       "city_pop                 0\n",
       "job                      0\n",
       "dob                      0\n",
       "trans_num                0\n",
       "unix_time                0\n",
       "merch_lat                0\n",
       "merch_long               0\n",
       "is_fraud                 0\n",
       "dtype: int64"
      ]
     },
     "execution_count": 6,
     "metadata": {},
     "output_type": "execute_result"
    }
   ],
   "source": [
    "train_df.isna().sum()"
   ]
  },
  {
   "cell_type": "code",
   "execution_count": 7,
   "id": "37568849",
   "metadata": {
    "papermill": {
     "duration": 0.83424,
     "end_time": "2023-09-10T19:35:07.176308",
     "exception": false,
     "start_time": "2023-09-10T19:35:06.342068",
     "status": "completed"
    },
    "tags": []
   },
   "outputs": [
    {
     "data": {
      "text/plain": [
       "Unnamed: 0               0\n",
       "trans_date_trans_time    0\n",
       "cc_num                   0\n",
       "merchant                 0\n",
       "category                 0\n",
       "amt                      0\n",
       "first                    0\n",
       "last                     0\n",
       "gender                   0\n",
       "street                   0\n",
       "city                     0\n",
       "state                    0\n",
       "zip                      0\n",
       "lat                      0\n",
       "long                     0\n",
       "city_pop                 0\n",
       "job                      0\n",
       "dob                      0\n",
       "trans_num                0\n",
       "unix_time                0\n",
       "merch_lat                0\n",
       "merch_long               0\n",
       "is_fraud                 0\n",
       "dtype: int64"
      ]
     },
     "execution_count": 7,
     "metadata": {},
     "output_type": "execute_result"
    }
   ],
   "source": [
    "test_df.isna().sum()"
   ]
  },
  {
   "cell_type": "code",
   "execution_count": 8,
   "id": "104e69b2",
   "metadata": {
    "papermill": {
     "duration": 5.058756,
     "end_time": "2023-09-10T19:35:12.260805",
     "exception": false,
     "start_time": "2023-09-10T19:35:07.202049",
     "status": "completed"
    },
    "tags": []
   },
   "outputs": [
    {
     "data": {
      "text/plain": [
       "0"
      ]
     },
     "execution_count": 8,
     "metadata": {},
     "output_type": "execute_result"
    }
   ],
   "source": [
    "train_df.duplicated().sum()"
   ]
  },
  {
   "cell_type": "code",
   "execution_count": 9,
   "id": "c1e1e0d2",
   "metadata": {
    "papermill": {
     "duration": 1.692688,
     "end_time": "2023-09-10T19:35:13.981621",
     "exception": false,
     "start_time": "2023-09-10T19:35:12.288933",
     "status": "completed"
    },
    "tags": []
   },
   "outputs": [
    {
     "data": {
      "text/plain": [
       "0"
      ]
     },
     "execution_count": 9,
     "metadata": {},
     "output_type": "execute_result"
    }
   ],
   "source": [
    "test_df.duplicated().sum()"
   ]
  },
  {
   "cell_type": "code",
   "execution_count": 10,
   "id": "e7450c15",
   "metadata": {
    "papermill": {
     "duration": 0.04106,
     "end_time": "2023-09-10T19:35:14.045607",
     "exception": false,
     "start_time": "2023-09-10T19:35:14.004547",
     "status": "completed"
    },
    "tags": []
   },
   "outputs": [
    {
     "data": {
      "text/plain": [
       "Unnamed: 0                                              0\n",
       "trans_date_trans_time                 2019-01-01 00:00:18\n",
       "cc_num                                   2703186189652095\n",
       "merchant                       fraud_Rippin, Kub and Mann\n",
       "category                                         misc_net\n",
       "amt                                                  4.97\n",
       "first                                            Jennifer\n",
       "last                                                Banks\n",
       "gender                                                  F\n",
       "street                                     561 Perry Cove\n",
       "city                                       Moravian Falls\n",
       "state                                                  NC\n",
       "zip                                                 28654\n",
       "lat                                               36.0788\n",
       "long                                             -81.1781\n",
       "city_pop                                             3495\n",
       "job                             Psychologist, counselling\n",
       "dob                                            1988-03-09\n",
       "trans_num                0b242abb623afc578575680df30655b9\n",
       "unix_time                                      1325376018\n",
       "merch_lat                                       36.011293\n",
       "merch_long                                     -82.048315\n",
       "is_fraud                                                0\n",
       "Name: 0, dtype: object"
      ]
     },
     "execution_count": 10,
     "metadata": {},
     "output_type": "execute_result"
    }
   ],
   "source": [
    "train_df.iloc[0,:]"
   ]
  },
  {
   "cell_type": "code",
   "execution_count": 11,
   "id": "bb3b1b6d",
   "metadata": {
    "papermill": {
     "duration": 0.620664,
     "end_time": "2023-09-10T19:35:14.737005",
     "exception": false,
     "start_time": "2023-09-10T19:35:14.116341",
     "status": "completed"
    },
    "tags": []
   },
   "outputs": [
    {
     "data": {
      "text/plain": [
       "1296675"
      ]
     },
     "execution_count": 11,
     "metadata": {},
     "output_type": "execute_result"
    }
   ],
   "source": [
    "train_df[\"trans_num\"].nunique()"
   ]
  },
  {
   "cell_type": "code",
   "execution_count": 12,
   "id": "4d9eb536",
   "metadata": {
    "papermill": {
     "duration": 2.861465,
     "end_time": "2023-09-10T19:35:17.620935",
     "exception": false,
     "start_time": "2023-09-10T19:35:14.759470",
     "status": "completed"
    },
    "tags": []
   },
   "outputs": [
    {
     "name": "stdout",
     "output_type": "stream",
     "text": [
      "Unique values in column Unnamed: 0: 1296675\n",
      "Unique values in column trans_date_trans_time: 1274791\n",
      "Unique values in column cc_num: 983\n",
      "Unique values in column merchant: 693\n",
      "Unique values in column category: 14\n",
      "Unique values in column amt: 52928\n",
      "Unique values in column first: 352\n",
      "Unique values in column last: 481\n",
      "Unique values in column gender: 2\n",
      "Unique values in column street: 983\n",
      "Unique values in column city: 894\n",
      "Unique values in column state: 51\n",
      "Unique values in column zip: 970\n",
      "Unique values in column lat: 968\n",
      "Unique values in column long: 969\n",
      "Unique values in column city_pop: 879\n",
      "Unique values in column job: 494\n",
      "Unique values in column dob: 968\n",
      "Unique values in column trans_num: 1296675\n",
      "Unique values in column unix_time: 1274823\n",
      "Unique values in column merch_lat: 1247805\n",
      "Unique values in column merch_long: 1275745\n",
      "Unique values in column is_fraud: 2\n"
     ]
    }
   ],
   "source": [
    "for column_name in train_df.columns:\n",
    "    unique_values = train_df[column_name].nunique()\n",
    "    print(f'Unique values in column {column_name}: {unique_values}')"
   ]
  },
  {
   "cell_type": "code",
   "execution_count": 13,
   "id": "6881b68e",
   "metadata": {
    "papermill": {
     "duration": 0.191076,
     "end_time": "2023-09-10T19:35:17.835845",
     "exception": false,
     "start_time": "2023-09-10T19:35:17.644769",
     "status": "completed"
    },
    "tags": []
   },
   "outputs": [],
   "source": [
    "dropColumn =[\"Unnamed: 0\",\"job\" ,\"cc_num\",\"trans_num\",\"zip\" ,\"unix_time\",\"merch_lat\",\"merch_long\",\"dob\",\"first\",\"last\",\"street\",\"city\"] \n",
    "train_df.drop(dropColumn,axis = 1,inplace = True)\n",
    "test_df.drop(dropColumn,axis = 1,inplace = True)"
   ]
  },
  {
   "cell_type": "code",
   "execution_count": 14,
   "id": "0b2df528",
   "metadata": {
    "papermill": {
     "duration": 0.046992,
     "end_time": "2023-09-10T19:35:17.908481",
     "exception": false,
     "start_time": "2023-09-10T19:35:17.861489",
     "status": "completed"
    },
    "tags": []
   },
   "outputs": [
    {
     "data": {
      "text/html": [
       "<div>\n",
       "<style scoped>\n",
       "    .dataframe tbody tr th:only-of-type {\n",
       "        vertical-align: middle;\n",
       "    }\n",
       "\n",
       "    .dataframe tbody tr th {\n",
       "        vertical-align: top;\n",
       "    }\n",
       "\n",
       "    .dataframe thead th {\n",
       "        text-align: right;\n",
       "    }\n",
       "</style>\n",
       "<table border=\"1\" class=\"dataframe\">\n",
       "  <thead>\n",
       "    <tr style=\"text-align: right;\">\n",
       "      <th></th>\n",
       "      <th>trans_date_trans_time</th>\n",
       "      <th>merchant</th>\n",
       "      <th>category</th>\n",
       "      <th>amt</th>\n",
       "      <th>gender</th>\n",
       "      <th>state</th>\n",
       "      <th>lat</th>\n",
       "      <th>long</th>\n",
       "      <th>city_pop</th>\n",
       "      <th>is_fraud</th>\n",
       "    </tr>\n",
       "  </thead>\n",
       "  <tbody>\n",
       "    <tr>\n",
       "      <th>0</th>\n",
       "      <td>2019-01-01 00:00:18</td>\n",
       "      <td>fraud_Rippin, Kub and Mann</td>\n",
       "      <td>misc_net</td>\n",
       "      <td>4.97</td>\n",
       "      <td>F</td>\n",
       "      <td>NC</td>\n",
       "      <td>36.0788</td>\n",
       "      <td>-81.1781</td>\n",
       "      <td>3495</td>\n",
       "      <td>0</td>\n",
       "    </tr>\n",
       "    <tr>\n",
       "      <th>1</th>\n",
       "      <td>2019-01-01 00:00:44</td>\n",
       "      <td>fraud_Heller, Gutmann and Zieme</td>\n",
       "      <td>grocery_pos</td>\n",
       "      <td>107.23</td>\n",
       "      <td>F</td>\n",
       "      <td>WA</td>\n",
       "      <td>48.8878</td>\n",
       "      <td>-118.2105</td>\n",
       "      <td>149</td>\n",
       "      <td>0</td>\n",
       "    </tr>\n",
       "  </tbody>\n",
       "</table>\n",
       "</div>"
      ],
      "text/plain": [
       "  trans_date_trans_time                         merchant     category     amt  \\\n",
       "0   2019-01-01 00:00:18       fraud_Rippin, Kub and Mann     misc_net    4.97   \n",
       "1   2019-01-01 00:00:44  fraud_Heller, Gutmann and Zieme  grocery_pos  107.23   \n",
       "\n",
       "  gender state      lat      long  city_pop  is_fraud  \n",
       "0      F    NC  36.0788  -81.1781      3495         0  \n",
       "1      F    WA  48.8878 -118.2105       149         0  "
      ]
     },
     "execution_count": 14,
     "metadata": {},
     "output_type": "execute_result"
    }
   ],
   "source": [
    "train_df.head(2)"
   ]
  },
  {
   "cell_type": "code",
   "execution_count": 15,
   "id": "257e7391",
   "metadata": {
    "papermill": {
     "duration": 0.036283,
     "end_time": "2023-09-10T19:35:17.968628",
     "exception": false,
     "start_time": "2023-09-10T19:35:17.932345",
     "status": "completed"
    },
    "tags": []
   },
   "outputs": [],
   "source": [
    "def datetoDay(time):\n",
    "    timestamp = datetime.strptime(time, \"%Y-%m-%d %H:%M:%S\")\n",
    "\n",
    "    day_of_week = timestamp.strftime(\"%A\")\n",
    "    return day_of_week"
   ]
  },
  {
   "cell_type": "code",
   "execution_count": 16,
   "id": "8327d543",
   "metadata": {
    "papermill": {
     "duration": 42.396264,
     "end_time": "2023-09-10T19:36:00.391169",
     "exception": false,
     "start_time": "2023-09-10T19:35:17.994905",
     "status": "completed"
    },
    "tags": []
   },
   "outputs": [],
   "source": [
    "train_df[\"trans_date_trans_time\"] = train_df[\"trans_date_trans_time\"].apply(datetoDay)\n",
    "test_df[\"trans_date_trans_time\"] = test_df[\"trans_date_trans_time\"].apply(datetoDay)"
   ]
  },
  {
   "cell_type": "code",
   "execution_count": 17,
   "id": "92485287",
   "metadata": {
    "papermill": {
     "duration": 0.062048,
     "end_time": "2023-09-10T19:36:00.479214",
     "exception": false,
     "start_time": "2023-09-10T19:36:00.417166",
     "status": "completed"
    },
    "tags": []
   },
   "outputs": [
    {
     "data": {
      "text/html": [
       "<div>\n",
       "<style scoped>\n",
       "    .dataframe tbody tr th:only-of-type {\n",
       "        vertical-align: middle;\n",
       "    }\n",
       "\n",
       "    .dataframe tbody tr th {\n",
       "        vertical-align: top;\n",
       "    }\n",
       "\n",
       "    .dataframe thead th {\n",
       "        text-align: right;\n",
       "    }\n",
       "</style>\n",
       "<table border=\"1\" class=\"dataframe\">\n",
       "  <thead>\n",
       "    <tr style=\"text-align: right;\">\n",
       "      <th></th>\n",
       "      <th>trans_date_trans_time</th>\n",
       "      <th>merchant</th>\n",
       "      <th>category</th>\n",
       "      <th>amt</th>\n",
       "      <th>gender</th>\n",
       "      <th>state</th>\n",
       "      <th>lat</th>\n",
       "      <th>long</th>\n",
       "      <th>city_pop</th>\n",
       "      <th>is_fraud</th>\n",
       "    </tr>\n",
       "  </thead>\n",
       "  <tbody>\n",
       "    <tr>\n",
       "      <th>0</th>\n",
       "      <td>Tuesday</td>\n",
       "      <td>fraud_Rippin, Kub and Mann</td>\n",
       "      <td>misc_net</td>\n",
       "      <td>4.97</td>\n",
       "      <td>F</td>\n",
       "      <td>NC</td>\n",
       "      <td>36.0788</td>\n",
       "      <td>-81.1781</td>\n",
       "      <td>3495</td>\n",
       "      <td>0</td>\n",
       "    </tr>\n",
       "    <tr>\n",
       "      <th>1</th>\n",
       "      <td>Tuesday</td>\n",
       "      <td>fraud_Heller, Gutmann and Zieme</td>\n",
       "      <td>grocery_pos</td>\n",
       "      <td>107.23</td>\n",
       "      <td>F</td>\n",
       "      <td>WA</td>\n",
       "      <td>48.8878</td>\n",
       "      <td>-118.2105</td>\n",
       "      <td>149</td>\n",
       "      <td>0</td>\n",
       "    </tr>\n",
       "    <tr>\n",
       "      <th>2</th>\n",
       "      <td>Tuesday</td>\n",
       "      <td>fraud_Lind-Buckridge</td>\n",
       "      <td>entertainment</td>\n",
       "      <td>220.11</td>\n",
       "      <td>M</td>\n",
       "      <td>ID</td>\n",
       "      <td>42.1808</td>\n",
       "      <td>-112.2620</td>\n",
       "      <td>4154</td>\n",
       "      <td>0</td>\n",
       "    </tr>\n",
       "    <tr>\n",
       "      <th>3</th>\n",
       "      <td>Tuesday</td>\n",
       "      <td>fraud_Kutch, Hermiston and Farrell</td>\n",
       "      <td>gas_transport</td>\n",
       "      <td>45.00</td>\n",
       "      <td>M</td>\n",
       "      <td>MT</td>\n",
       "      <td>46.2306</td>\n",
       "      <td>-112.1138</td>\n",
       "      <td>1939</td>\n",
       "      <td>0</td>\n",
       "    </tr>\n",
       "    <tr>\n",
       "      <th>4</th>\n",
       "      <td>Tuesday</td>\n",
       "      <td>fraud_Keeling-Crist</td>\n",
       "      <td>misc_pos</td>\n",
       "      <td>41.96</td>\n",
       "      <td>M</td>\n",
       "      <td>VA</td>\n",
       "      <td>38.4207</td>\n",
       "      <td>-79.4629</td>\n",
       "      <td>99</td>\n",
       "      <td>0</td>\n",
       "    </tr>\n",
       "  </tbody>\n",
       "</table>\n",
       "</div>"
      ],
      "text/plain": [
       "  trans_date_trans_time                            merchant       category  \\\n",
       "0               Tuesday          fraud_Rippin, Kub and Mann       misc_net   \n",
       "1               Tuesday     fraud_Heller, Gutmann and Zieme    grocery_pos   \n",
       "2               Tuesday                fraud_Lind-Buckridge  entertainment   \n",
       "3               Tuesday  fraud_Kutch, Hermiston and Farrell  gas_transport   \n",
       "4               Tuesday                 fraud_Keeling-Crist       misc_pos   \n",
       "\n",
       "      amt gender state      lat      long  city_pop  is_fraud  \n",
       "0    4.97      F    NC  36.0788  -81.1781      3495         0  \n",
       "1  107.23      F    WA  48.8878 -118.2105       149         0  \n",
       "2  220.11      M    ID  42.1808 -112.2620      4154         0  \n",
       "3   45.00      M    MT  46.2306 -112.1138      1939         0  \n",
       "4   41.96      M    VA  38.4207  -79.4629        99         0  "
      ]
     },
     "execution_count": 17,
     "metadata": {},
     "output_type": "execute_result"
    }
   ],
   "source": [
    "train_df.head()"
   ]
  },
  {
   "cell_type": "markdown",
   "id": "ce9439f2",
   "metadata": {
    "papermill": {
     "duration": 0.025367,
     "end_time": "2023-09-10T19:36:00.536461",
     "exception": false,
     "start_time": "2023-09-10T19:36:00.511094",
     "status": "completed"
    },
    "tags": []
   },
   "source": [
    "Data Visualization"
   ]
  },
  {
   "cell_type": "code",
   "execution_count": 18,
   "id": "167efbcd",
   "metadata": {
    "papermill": {
     "duration": 0.057414,
     "end_time": "2023-09-10T19:36:00.621721",
     "exception": false,
     "start_time": "2023-09-10T19:36:00.564307",
     "status": "completed"
    },
    "tags": []
   },
   "outputs": [
    {
     "data": {
      "text/plain": [
       "is_fraud\n",
       "0    1289169\n",
       "1       7506\n",
       "Name: count, dtype: int64"
      ]
     },
     "execution_count": 18,
     "metadata": {},
     "output_type": "execute_result"
    }
   ],
   "source": [
    "train_df[\"is_fraud\"].value_counts()"
   ]
  },
  {
   "cell_type": "code",
   "execution_count": 19,
   "id": "1129b3e0",
   "metadata": {
    "papermill": {
     "duration": 0.552604,
     "end_time": "2023-09-10T19:36:01.205805",
     "exception": false,
     "start_time": "2023-09-10T19:36:00.653201",
     "status": "completed"
    },
    "tags": []
   },
   "outputs": [
    {
     "data": {
      "text/plain": [
       "<Axes: xlabel='is_fraud', ylabel='count'>"
      ]
     },
     "execution_count": 19,
     "metadata": {},
     "output_type": "execute_result"
    },
    {
     "data": {
      "image/png": "[encoded data removed]",
      "text/plain": [
       "<Figure size 640x480 with 1 Axes>"
      ]
     },
     "metadata": {},
     "output_type": "display_data"
    }
   ],
   "source": [
    "plt.style.use(\"ggplot\")\n",
    "sns.countplot(x= train_df[\"is_fraud\"])"
   ]
  },
  {
   "cell_type": "code",
   "execution_count": 20,
   "id": "e50e968a",
   "metadata": {
    "papermill": {
     "duration": 2.695505,
     "end_time": "2023-09-10T19:36:03.934230",
     "exception": false,
     "start_time": "2023-09-10T19:36:01.238725",
     "status": "completed"
    },
    "tags": []
   },
   "outputs": [
    {
     "name": "stderr",
     "output_type": "stream",
     "text": [
      "C:\\Users\\acerKSG\\AppData\\Local\\Programs\\Python\\Python311\\Lib\\site-packages\\seaborn\\_base.py:948: FutureWarning: When grouping with a length-1 list-like, you will need to pass a length-1 tuple to get_group in a future version of pandas. Pass `(name,)` instead of `name` to silence this warning.\n",
      "  data_subset = grouped_data.get_group(pd_key)\n",
      "C:\\Users\\acerKSG\\AppData\\Local\\Programs\\Python\\Python311\\Lib\\site-packages\\seaborn\\_base.py:948: FutureWarning: When grouping with a length-1 list-like, you will need to pass a length-1 tuple to get_group in a future version of pandas. Pass `(name,)` instead of `name` to silence this warning.\n",
      "  data_subset = grouped_data.get_group(pd_key)\n"
     ]
    },
    {
     "data": {
      "text/plain": [
       "<Axes: xlabel='gender', ylabel='count'>"
      ]
     },
     "execution_count": 20,
     "metadata": {},
     "output_type": "execute_result"
    },
    {
     "data": {
      "image/png": "[encoded data removed]",
      "text/plain": [
       "<Figure size 640x480 with 1 Axes>"
      ]
     },
     "metadata": {},
     "output_type": "display_data"
    }
   ],
   "source": [
    "sns.countplot(x= train_df[\"gender\"],hue = \"is_fraud\",data = train_df)"
   ]
  },
  {
   "cell_type": "markdown",
   "id": "9804ec8c",
   "metadata": {
    "papermill": {
     "duration": 0.031952,
     "end_time": "2023-09-10T19:36:07.021068",
     "exception": false,
     "start_time": "2023-09-10T19:36:06.989116",
     "status": "completed"
    },
    "tags": []
   },
   "source": [
    "Data Preprocessing"
   ]
  },
  {
   "cell_type": "code",
   "execution_count": 21,
   "id": "ceefbbdb",
   "metadata": {
    "papermill": {
     "duration": 5.471834,
     "end_time": "2023-09-10T19:36:12.532020",
     "exception": false,
     "start_time": "2023-09-10T19:36:07.060186",
     "status": "completed"
    },
    "tags": []
   },
   "outputs": [],
   "source": [
    "from sklearn.preprocessing import OneHotEncoder , StandardScaler\n",
    "from imblearn.over_sampling import SMOTE\n",
    "from sklearn.compose import ColumnTransformer \n",
    "\n",
    "x_train = train_df.drop(\"is_fraud\" ,axis = 1)\n",
    "y_train = train_df[\"is_fraud\"]\n",
    "\n",
    "x_test = test_df.drop(\"is_fraud\" ,axis = 1)\n",
    "y_test = test_df[\"is_fraud\"]\n",
    "\n",
    "\n",
    "categ = [\"trans_date_trans_time\",\"merchant\",\"category\",\"gender\",\"state\"]\n",
    "numeric = [\"amt\",\"lat\" ,\"long\" ,\"city_pop\"]\n",
    "\n",
    "encoder = OneHotEncoder()\n",
    "scaler = StandardScaler()\n",
    "\n",
    "transf = ColumnTransformer(transformers = [(\"categorical\",encoder ,categ),\n",
    "                                            (\"num\",scaler,numeric)],remainder=\"passthrough\")\n",
    "x_train = transf.fit_transform(x_train)\n",
    "x_test = transf.transform(x_test)"
   ]
  },
  {
   "cell_type": "code",
   "execution_count": 22,
   "id": "9e86f51b",
   "metadata": {
    "papermill": {
     "duration": 0.046506,
     "end_time": "2023-09-10T19:36:12.607848",
     "exception": false,
     "start_time": "2023-09-10T19:36:12.561342",
     "status": "completed"
    },
    "tags": []
   },
   "outputs": [
    {
     "data": {
      "text/plain": [
       "((1296675, 771), (555719, 771), (1296675,), (555719,))"
      ]
     },
     "execution_count": 22,
     "metadata": {},
     "output_type": "execute_result"
    }
   ],
   "source": [
    "x_train.shape,x_test.shape ,y_train.shape ,y_test.shape"
   ]
  },
  {
   "cell_type": "code",
   "execution_count": 23,
   "id": "760c61a5",
   "metadata": {
    "papermill": {
     "duration": 0.043876,
     "end_time": "2023-09-10T19:36:12.682818",
     "exception": false,
     "start_time": "2023-09-10T19:36:12.638942",
     "status": "completed"
    },
    "tags": []
   },
   "outputs": [],
   "source": [
    "def model_testing(estimator):\n",
    "    y_preds = estimator.predict(x_test)\n",
    "     \n",
    "    print(\"Accuracy Score : \",accuracy_score(y_test,y_preds))\n",
    "\n",
    "    print(\"\\nConfussion Matrix :\\n \" ,confusion_matrix(y_test ,y_preds),\"\\n\")\n",
    "\n",
    "    print(\"classification_report: \\n\\n\",classification_report(y_test ,y_preds))"
   ]
  },
  {
   "cell_type": "markdown",
   "id": "56c4d5aa",
   "metadata": {
    "papermill": {
     "duration": 0.026321,
     "end_time": "2023-09-10T19:36:12.739728",
     "exception": false,
     "start_time": "2023-09-10T19:36:12.713407",
     "status": "completed"
    },
    "tags": []
   },
   "source": [
    "Model selection"
   ]
  },
  {
   "cell_type": "code",
   "execution_count": 24,
   "id": "b18b4008",
   "metadata": {
    "papermill": {
     "duration": 0.037874,
     "end_time": "2023-09-10T19:36:12.803667",
     "exception": false,
     "start_time": "2023-09-10T19:36:12.765793",
     "status": "completed"
    },
    "tags": []
   },
   "outputs": [],
   "source": [
    "from sklearn.linear_model import LogisticRegression\n",
    "from sklearn.tree import DecisionTreeClassifier \n",
    "from sklearn.ensemble import RandomForestClassifier\n",
    "from sklearn.metrics import accuracy_score,classification_report,confusion_matrix"
   ]
  },
  {
   "cell_type": "markdown",
   "id": "4943cad2",
   "metadata": {
    "papermill": {
     "duration": 0.029633,
     "end_time": "2023-09-10T19:36:12.862614",
     "exception": false,
     "start_time": "2023-09-10T19:36:12.832981",
     "status": "completed"
    },
    "tags": []
   },
   "source": [
    "#### Logistic Regression"
   ]
  },
  {
   "cell_type": "code",
   "execution_count": 25,
   "id": "e65e7b25",
   "metadata": {
    "papermill": {
     "duration": 12.564532,
     "end_time": "2023-09-10T19:36:25.459470",
     "exception": false,
     "start_time": "2023-09-10T19:36:12.894938",
     "status": "completed"
    },
    "tags": []
   },
   "outputs": [
    {
     "name": "stdout",
     "output_type": "stream",
     "text": [
      "Accuracy Score :  0.9955445108049212\n",
      "\n",
      "Confussion Matrix :\n",
      "  [[553243    331]\n",
      " [  2145      0]] \n",
      "\n",
      "classification_report: \n",
      "\n",
      "               precision    recall  f1-score   support\n",
      "\n",
      "           0       1.00      1.00      1.00    553574\n",
      "           1       0.00      0.00      0.00      2145\n",
      "\n",
      "    accuracy                           1.00    555719\n",
      "   macro avg       0.50      0.50      0.50    555719\n",
      "weighted avg       0.99      1.00      0.99    555719\n",
      "\n"
     ]
    }
   ],
   "source": [
    "model = LogisticRegression()\n",
    "model.fit(x_train ,y_train)\n",
    "model_testing(model)"
   ]
  },
  {
   "cell_type": "markdown",
   "id": "5fdaf7e2",
   "metadata": {
    "papermill": {
     "duration": 0.025618,
     "end_time": "2023-09-10T19:36:25.572460",
     "exception": false,
     "start_time": "2023-09-10T19:36:25.546842",
     "status": "completed"
    },
    "tags": []
   },
   "source": [
    "#### DecisionTreeClassifier"
   ]
  },
  {
   "cell_type": "code",
   "execution_count": 26,
   "id": "a202b901",
   "metadata": {
    "papermill": {
     "duration": 68.860067,
     "end_time": "2023-09-10T19:37:34.460132",
     "exception": false,
     "start_time": "2023-09-10T19:36:25.600065",
     "status": "completed"
    },
    "tags": []
   },
   "outputs": [
    {
     "name": "stdout",
     "output_type": "stream",
     "text": [
      "Accuracy Score :  0.9964352487498178\n",
      "\n",
      "Confussion Matrix :\n",
      "  [[552492   1082]\n",
      " [   899   1246]] \n",
      "\n",
      "classification_report: \n",
      "\n",
      "               precision    recall  f1-score   support\n",
      "\n",
      "           0       1.00      1.00      1.00    553574\n",
      "           1       0.54      0.58      0.56      2145\n",
      "\n",
      "    accuracy                           1.00    555719\n",
      "   macro avg       0.77      0.79      0.78    555719\n",
      "weighted avg       1.00      1.00      1.00    555719\n",
      "\n"
     ]
    },
    {
     "data": {
      "text/plain": [
       "0.9964352487498178"
      ]
     },
     "execution_count": 26,
     "metadata": {},
     "output_type": "execute_result"
    }
   ],
   "source": [
    "dt = DecisionTreeClassifier()\n",
    "dt.fit(x_train ,y_train)\n",
    "model_testing(dt)\n",
    "dt.score(x_test ,y_test)"
   ]
  },
  {
   "cell_type": "markdown",
   "id": "e529249b",
   "metadata": {
    "papermill": {
     "duration": 0.028154,
     "end_time": "2023-09-10T19:37:34.573313",
     "exception": false,
     "start_time": "2023-09-10T19:37:34.545159",
     "status": "completed"
    },
    "tags": []
   },
   "source": [
    "#### RandomForestClassifier "
   ]
  },
  {
   "cell_type": "code",
   "execution_count": 27,
   "id": "0576d8cd",
   "metadata": {
    "papermill": {
     "duration": 1760.207025,
     "end_time": "2023-09-10T20:06:54.810411",
     "exception": false,
     "start_time": "2023-09-10T19:37:34.603386",
     "status": "completed"
    },
    "tags": []
   },
   "outputs": [
    {
     "name": "stdout",
     "output_type": "stream",
     "text": [
      "Accuracy Score :  0.9974015644597359\n",
      "\n",
      "Confussion Matrix :\n",
      "  [[553400    174]\n",
      " [  1270    875]] \n",
      "\n",
      "classification_report: \n",
      "\n",
      "               precision    recall  f1-score   support\n",
      "\n",
      "           0       1.00      1.00      1.00    553574\n",
      "           1       0.83      0.41      0.55      2145\n",
      "\n",
      "    accuracy                           1.00    555719\n",
      "   macro avg       0.92      0.70      0.77    555719\n",
      "weighted avg       1.00      1.00      1.00    555719\n",
      "\n"
     ]
    },
    {
     "data": {
      "text/plain": [
       "0.9974015644597359"
      ]
     },
     "execution_count": 27,
     "metadata": {},
     "output_type": "execute_result"
    }
   ],
   "source": [
    "rf = RandomForestClassifier()\n",
    "rf.fit(x_train ,y_train)\n",
    "model_testing(rf)\n",
    "rf.score(x_test ,y_test)"
   ]
  },
  {
   "cell_type": "markdown",
   "id": "96858b57",
   "metadata": {
    "papermill": {
     "duration": 0.025649,
     "end_time": "2023-09-10T20:06:54.966072",
     "exception": false,
     "start_time": "2023-09-10T20:06:54.940423",
     "status": "completed"
    },
    "tags": []
   },
   "source": []
  }
 ],
 "metadata": {
  "kernelspec": {
   "display_name": "Python 3 (ipykernel)",
   "language": "python",
   "name": "python3"
  },
  "language_info": {
   "codemirror_mode": {
    "name": "ipython",
    "version": 3
   },
   "file_extension": ".py",
   "mimetype": "text/x-python",
   "name": "python",
   "nbconvert_exporter": "python",
   "pygments_lexer": "ipython3",
   "version": "3.11.5"
  },
  "papermill": {
   "default_parameters": {},
   "duration": 6841.322316,
   "end_time": "2023-09-10T21:28:21.785547",
   "environment_variables": {},
   "exception": null,
   "input_path": "__notebook__.ipynb",
   "output_path": "__notebook__.ipynb",
   "parameters": {},
   "start_time": "2023-09-10T19:34:20.463231",
   "version": "2.4.0"
  }
 },
 "nbformat": 4,
 "nbformat_minor": 5
}
