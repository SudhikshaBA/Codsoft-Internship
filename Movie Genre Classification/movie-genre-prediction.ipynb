{
 "cells": [
  {
   "cell_type": "markdown",
   "id": "813bc30d",
   "metadata": {
    "papermill": {
     "duration": 0.004247,
     "end_time": "2023-10-19T16:09:02.460199",
     "exception": false,
     "start_time": "2023-10-19T16:09:02.455952",
     "status": "completed"
    },
    "tags": []
   },
   "source": [
    "Importing Libraries"
   ]
  },
  {
   "cell_type": "code",
   "execution_count": 1,
   "id": "931d5fda",
   "metadata": {
    "papermill": {
     "duration": 3.249897,
     "end_time": "2023-10-19T16:09:05.715987",
     "exception": false,
     "start_time": "2023-10-19T16:09:02.466090",
     "status": "completed"
    },
    "tags": []
   },
   "outputs": [],
   "source": [
    "import pandas as pd\n",
    "import matplotlib.pyplot as plt\n",
    "import seaborn as sns\n",
    "import re\n",
    "import nltk\n",
    "import string\n",
    "from nltk.corpus import stopwords\n",
    "from nltk.stem import LancasterStemmer\n",
    "from sklearn.feature_extraction.text import TfidfVectorizer\n",
    "from sklearn.model_selection import train_test_split\n",
    "from sklearn.naive_bayes import MultinomialNB\n",
    "from sklearn.metrics import accuracy_score, classification_report\n",
    "from sklearn.svm import SVC\n",
    "from sklearn.linear_model import LogisticRegression\n"
   ]
  },
  {
   "cell_type": "markdown",
   "id": "7f8f9498",
   "metadata": {
    "papermill": {
     "duration": 0.00516,
     "end_time": "2023-10-19T16:09:05.726129",
     "exception": false,
     "start_time": "2023-10-19T16:09:05.720969",
     "status": "completed"
    },
    "tags": []
   },
   "source": [
    "Load Dataset"
   ]
  },
  {
   "cell_type": "code",
   "execution_count": 2,
   "id": "59474bf3",
   "metadata": {
    "papermill": {
     "duration": 1.257038,
     "end_time": "2023-10-19T16:09:06.987522",
     "exception": false,
     "start_time": "2023-10-19T16:09:05.730484",
     "status": "completed"
    },
    "tags": []
   },
   "outputs": [
    {
     "name": "stdout",
     "output_type": "stream",
     "text": [
      "                                 Title    Genre  \\\n",
      "count                            54214    54214   \n",
      "unique                           54214       27   \n",
      "top      Oscar et la dame rose (2009)    drama    \n",
      "freq                                 1    13613   \n",
      "\n",
      "                                              Description  \n",
      "count                                               54214  \n",
      "unique                                              54086  \n",
      "top      Grammy - music award of the American academy ...  \n",
      "freq                                                   12  \n"
     ]
    }
   ],
   "source": [
    "train_location = \"Genre Classification Dataset/train_data.txt\"\n",
    "train_data = pd.read_csv(train_location, sep=':::', names=['Title', 'Genre', 'Description'], engine='python')\n",
    "print(train_data.describe())"
   ]
  },
  {
   "cell_type": "code",
   "execution_count": 3,
   "id": "71c8e740",
   "metadata": {
    "papermill": {
     "duration": 0.051089,
     "end_time": "2023-10-19T16:09:07.042694",
     "exception": false,
     "start_time": "2023-10-19T16:09:06.991605",
     "status": "completed"
    },
    "tags": []
   },
   "outputs": [
    {
     "name": "stdout",
     "output_type": "stream",
     "text": [
      "<class 'pandas.core.frame.DataFrame'>\n",
      "Index: 54214 entries, 1 to 54214\n",
      "Data columns (total 3 columns):\n",
      " #   Column       Non-Null Count  Dtype \n",
      "---  ------       --------------  ----- \n",
      " 0   Title        54214 non-null  object\n",
      " 1   Genre        54214 non-null  object\n",
      " 2   Description  54214 non-null  object\n",
      "dtypes: object(3)\n",
      "memory usage: 1.7+ MB\n",
      "None\n"
     ]
    }
   ],
   "source": [
    "print(train_data.info())"
   ]
  },
  {
   "cell_type": "code",
   "execution_count": 4,
   "id": "8bc8b682",
   "metadata": {
    "papermill": {
     "duration": 0.032522,
     "end_time": "2023-10-19T16:09:07.079348",
     "exception": false,
     "start_time": "2023-10-19T16:09:07.046826",
     "status": "completed"
    },
    "tags": []
   },
   "outputs": [
    {
     "name": "stdout",
     "output_type": "stream",
     "text": [
      "Title          0\n",
      "Genre          0\n",
      "Description    0\n",
      "dtype: int64\n"
     ]
    }
   ],
   "source": [
    "print(train_data.isnull().sum())"
   ]
  },
  {
   "cell_type": "code",
   "execution_count": 5,
   "id": "77df520e",
   "metadata": {
    "papermill": {
     "duration": 0.926998,
     "end_time": "2023-10-19T16:09:08.010571",
     "exception": false,
     "start_time": "2023-10-19T16:09:07.083573",
     "status": "completed"
    },
    "tags": []
   },
   "outputs": [
    {
     "data": {
      "text/html": [
       "<div>\n",
       "<style scoped>\n",
       "    .dataframe tbody tr th:only-of-type {\n",
       "        vertical-align: middle;\n",
       "    }\n",
       "\n",
       "    .dataframe tbody tr th {\n",
       "        vertical-align: top;\n",
       "    }\n",
       "\n",
       "    .dataframe thead th {\n",
       "        text-align: right;\n",
       "    }\n",
       "</style>\n",
       "<table border=\"1\" class=\"dataframe\">\n",
       "  <thead>\n",
       "    <tr style=\"text-align: right;\">\n",
       "      <th></th>\n",
       "      <th>Id</th>\n",
       "      <th>Title</th>\n",
       "      <th>Description</th>\n",
       "    </tr>\n",
       "  </thead>\n",
       "  <tbody>\n",
       "    <tr>\n",
       "      <th>0</th>\n",
       "      <td>1</td>\n",
       "      <td>Edgar's Lunch (1998)</td>\n",
       "      <td>L.R. Brane loves his life - his car, his apar...</td>\n",
       "    </tr>\n",
       "    <tr>\n",
       "      <th>1</th>\n",
       "      <td>2</td>\n",
       "      <td>La guerra de papá (1977)</td>\n",
       "      <td>Spain, March 1964: Quico is a very naughty ch...</td>\n",
       "    </tr>\n",
       "    <tr>\n",
       "      <th>2</th>\n",
       "      <td>3</td>\n",
       "      <td>Off the Beaten Track (2010)</td>\n",
       "      <td>One year in the life of Albin and his family ...</td>\n",
       "    </tr>\n",
       "    <tr>\n",
       "      <th>3</th>\n",
       "      <td>4</td>\n",
       "      <td>Meu Amigo Hindu (2015)</td>\n",
       "      <td>His father has died, he hasn't spoken with hi...</td>\n",
       "    </tr>\n",
       "    <tr>\n",
       "      <th>4</th>\n",
       "      <td>5</td>\n",
       "      <td>Er nu zhai (1955)</td>\n",
       "      <td>Before he was known internationally as a mart...</td>\n",
       "    </tr>\n",
       "  </tbody>\n",
       "</table>\n",
       "</div>"
      ],
      "text/plain": [
       "   Id                          Title  \\\n",
       "0   1          Edgar's Lunch (1998)    \n",
       "1   2      La guerra de papá (1977)    \n",
       "2   3   Off the Beaten Track (2010)    \n",
       "3   4        Meu Amigo Hindu (2015)    \n",
       "4   5             Er nu zhai (1955)    \n",
       "\n",
       "                                         Description  \n",
       "0   L.R. Brane loves his life - his car, his apar...  \n",
       "1   Spain, March 1964: Quico is a very naughty ch...  \n",
       "2   One year in the life of Albin and his family ...  \n",
       "3   His father has died, he hasn't spoken with hi...  \n",
       "4   Before he was known internationally as a mart...  "
      ]
     },
     "execution_count": 5,
     "metadata": {},
     "output_type": "execute_result"
    }
   ],
   "source": [
    "test_location = \"Genre Classification Dataset/test_data.txt\"\n",
    "test_data = pd.read_csv(test_location, sep=':::', names=['Id', 'Title', 'Description'], engine='python')\n",
    "test_data.head()"
   ]
  },
  {
   "cell_type": "markdown",
   "id": "ab2500b2",
   "metadata": {
    "papermill": {
     "duration": 0.00399,
     "end_time": "2023-10-19T16:09:08.018924",
     "exception": false,
     "start_time": "2023-10-19T16:09:08.014934",
     "status": "completed"
    },
    "tags": []
   },
   "source": [
    "Data Preprocessing and Text Cleaning"
   ]
  },
  {
   "cell_type": "code",
   "execution_count": 6,
   "id": "8a0639ae",
   "metadata": {
    "papermill": {
     "duration": 104.659285,
     "end_time": "2023-10-19T16:10:52.682367",
     "exception": false,
     "start_time": "2023-10-19T16:09:08.023082",
     "status": "completed"
    },
    "tags": []
   },
   "outputs": [],
   "source": [
    "stemmer = LancasterStemmer()\n",
    "stop_words = set(stopwords.words('english'))\n",
    "\n",
    "def clean_text(text):\n",
    "    text = text.lower()  \n",
    "    text = re.sub(r'@\\S+', '', text)  \n",
    "    text = re.sub(r'http\\S+', '', text)  \n",
    "    text = re.sub(r'pic.\\S+', '', text)\n",
    "    text = re.sub(r\"[^a-zA-Z+']\", ' ', text)  \n",
    "    text = re.sub(r'\\s+[a-zA-Z]\\s+', ' ', text + ' ')  \n",
    "    text = \"\".join([i for i in text if i not in string.punctuation])\n",
    "    words = nltk.word_tokenize(text)\n",
    "    stopwords = nltk.corpus.stopwords.words('english')  \n",
    "    text = \" \".join([i for i in words if i not in stopwords and len(i) > 2])\n",
    "    text = re.sub(\"\\s[\\s]+\", \" \", text).strip()  \n",
    "    return text\n",
    "\n",
    "train_data['Text_cleaning'] = train_data['Description'].apply(clean_text)\n",
    "test_data['Text_cleaning'] = test_data['Description'].apply(clean_text)"
   ]
  },
  {
   "cell_type": "markdown",
   "id": "7884c117",
   "metadata": {
    "papermill": {
     "duration": 0.005336,
     "end_time": "2023-10-19T16:10:52.695736",
     "exception": false,
     "start_time": "2023-10-19T16:10:52.690400",
     "status": "completed"
    },
    "tags": []
   },
   "source": [
    "TF-ID Text Vectorization\n"
   ]
  },
  {
   "cell_type": "code",
   "execution_count": 7,
   "id": "3a991773",
   "metadata": {
    "papermill": {
     "duration": 7.573224,
     "end_time": "2023-10-19T16:11:00.273321",
     "exception": false,
     "start_time": "2023-10-19T16:10:52.700097",
     "status": "completed"
    },
    "tags": []
   },
   "outputs": [],
   "source": [
    "tfidf_vectorizer = TfidfVectorizer()\n",
    "X_train = tfidf_vectorizer.fit_transform(train_data['Text_cleaning'])\n",
    "X_test = tfidf_vectorizer.transform(test_data['Text_cleaning'])"
   ]
  },
  {
   "cell_type": "markdown",
   "id": "3f6e3980",
   "metadata": {
    "papermill": {
     "duration": 0.003966,
     "end_time": "2023-10-19T16:11:00.281809",
     "exception": false,
     "start_time": "2023-10-19T16:11:00.277843",
     "status": "completed"
    },
    "tags": []
   },
   "source": [
    "Split Data \n"
   ]
  },
  {
   "cell_type": "code",
   "execution_count": 8,
   "id": "d104a149",
   "metadata": {
    "papermill": {
     "duration": 0.036966,
     "end_time": "2023-10-19T16:11:00.322908",
     "exception": false,
     "start_time": "2023-10-19T16:11:00.285942",
     "status": "completed"
    },
    "tags": []
   },
   "outputs": [],
   "source": [
    "X = X_train\n",
    "y = train_data['Genre']\n",
    "X_train, X_val, y_train, y_val = train_test_split(X, y, test_size=0.2, random_state=42)"
   ]
  },
  {
   "cell_type": "markdown",
   "id": "a6216adc",
   "metadata": {
    "papermill": {
     "duration": 0.004007,
     "end_time": "2023-10-19T16:11:00.331383",
     "exception": false,
     "start_time": "2023-10-19T16:11:00.327376",
     "status": "completed"
    },
    "tags": []
   },
   "source": [
    "Naive Bayes Model"
   ]
  },
  {
   "cell_type": "code",
   "execution_count": 9,
   "id": "7917defb",
   "metadata": {
    "papermill": {
     "duration": 0.858718,
     "end_time": "2023-10-19T16:11:01.194545",
     "exception": false,
     "start_time": "2023-10-19T16:11:00.335827",
     "status": "completed"
    },
    "tags": []
   },
   "outputs": [
    {
     "name": "stdout",
     "output_type": "stream",
     "text": [
      "Validation Accuracy: 0.44526422576777647\n",
      "               precision    recall  f1-score   support\n",
      "\n",
      "      action        0.00      0.00      0.00       263\n",
      "       adult        0.00      0.00      0.00       112\n",
      "   adventure        0.00      0.00      0.00       139\n",
      "   animation        0.00      0.00      0.00       104\n",
      "   biography        0.00      0.00      0.00        61\n",
      "      comedy        0.61      0.04      0.07      1443\n",
      "       crime        0.00      0.00      0.00       107\n",
      " documentary        0.54      0.90      0.67      2659\n",
      "       drama        0.38      0.88      0.53      2697\n",
      "      family        0.00      0.00      0.00       150\n",
      "     fantasy        0.00      0.00      0.00        74\n",
      "   game-show        0.00      0.00      0.00        40\n",
      "     history        0.00      0.00      0.00        45\n",
      "      horror        0.00      0.00      0.00       431\n",
      "       music        0.00      0.00      0.00       144\n",
      "     musical        0.00      0.00      0.00        50\n",
      "     mystery        0.00      0.00      0.00        56\n",
      "        news        0.00      0.00      0.00        34\n",
      "  reality-tv        0.00      0.00      0.00       192\n",
      "     romance        0.00      0.00      0.00       151\n",
      "      sci-fi        0.00      0.00      0.00       143\n",
      "       short        0.50      0.00      0.00      1045\n",
      "       sport        0.00      0.00      0.00        93\n",
      "   talk-show        0.00      0.00      0.00        81\n",
      "    thriller        0.00      0.00      0.00       309\n",
      "         war        0.00      0.00      0.00        20\n",
      "     western        0.00      0.00      0.00       200\n",
      "\n",
      "     accuracy                           0.45     10843\n",
      "    macro avg       0.08      0.07      0.05     10843\n",
      " weighted avg       0.36      0.45      0.31     10843\n",
      "\n"
     ]
    }
   ],
   "source": [
    "classifier = MultinomialNB()\n",
    "classifier.fit(X_train, y_train)\n",
    "\n",
    "y_pred = classifier.predict(X_val)\n",
    "\n",
    "accuracy = accuracy_score(y_val, y_pred)\n",
    "print(\"Validation Accuracy:\", accuracy)\n",
    "print(classification_report(y_val, y_pred, zero_division=0.0))"
   ]
  },
  {
   "cell_type": "markdown",
   "id": "0fdd2e66",
   "metadata": {
    "papermill": {
     "duration": 0.004149,
     "end_time": "2023-10-19T16:11:01.203166",
     "exception": false,
     "start_time": "2023-10-19T16:11:01.199017",
     "status": "completed"
    },
    "tags": []
   },
   "source": [
    "Logistic Regression Model"
   ]
  },
  {
   "cell_type": "code",
   "execution_count": 10,
   "id": "4cba5296",
   "metadata": {
    "papermill": {
     "duration": 337.854697,
     "end_time": "2023-10-19T16:16:39.062370",
     "exception": false,
     "start_time": "2023-10-19T16:11:01.207673",
     "status": "completed"
    },
    "tags": []
   },
   "outputs": [
    {
     "name": "stdout",
     "output_type": "stream",
     "text": [
      "Validation Accuracy: 0.5794521811306834\n",
      "               precision    recall  f1-score   support\n",
      "\n",
      "      action        0.62      0.21      0.32       263\n",
      "       adult        0.86      0.16      0.27       112\n",
      "   adventure        0.45      0.10      0.16       139\n",
      "   animation        0.67      0.02      0.04       104\n",
      "   biography        0.00      0.00      0.00        61\n",
      "      comedy        0.52      0.59      0.55      1443\n",
      "       crime        1.00      0.01      0.02       107\n",
      " documentary        0.65      0.87      0.74      2659\n",
      "       drama        0.53      0.81      0.64      2697\n",
      "      family        0.50      0.05      0.10       150\n",
      "     fantasy        0.00      0.00      0.00        74\n",
      "   game-show        0.92      0.30      0.45        40\n",
      "     history        0.00      0.00      0.00        45\n",
      "      horror        0.67      0.55      0.60       431\n",
      "       music        0.71      0.38      0.49       144\n",
      "     musical        0.00      0.00      0.00        50\n",
      "     mystery        0.00      0.00      0.00        56\n",
      "        news        0.00      0.00      0.00        34\n",
      "  reality-tv        0.48      0.14      0.21       192\n",
      "     romance        0.00      0.00      0.00       151\n",
      "      sci-fi        0.57      0.15      0.23       143\n",
      "       short        0.51      0.29      0.37      1045\n",
      "       sport        0.87      0.14      0.24        93\n",
      "   talk-show        0.60      0.07      0.13        81\n",
      "    thriller        0.44      0.11      0.18       309\n",
      "         war        0.00      0.00      0.00        20\n",
      "     western        0.96      0.67      0.79       200\n",
      "\n",
      "     accuracy                           0.58     10843\n",
      "    macro avg       0.46      0.21      0.24     10843\n",
      " weighted avg       0.56      0.58      0.53     10843\n",
      "\n"
     ]
    }
   ],
   "source": [
    "classifier = LogisticRegression(max_iter=1000)\n",
    "classifier.fit(X_train, y_train)\n",
    "\n",
    "y_pred = classifier.predict(X_val)\n",
    "\n",
    "accuracy = accuracy_score(y_val, y_pred)\n",
    "print(\"Validation Accuracy:\", accuracy)\n",
    "print(classification_report(y_val, y_pred, zero_division=0.0))"
   ]
  },
  {
   "cell_type": "markdown",
   "id": "3eda6b0d",
   "metadata": {
    "papermill": {
     "duration": 0.004691,
     "end_time": "2023-10-19T16:16:39.072263",
     "exception": false,
     "start_time": "2023-10-19T16:16:39.067572",
     "status": "completed"
    },
    "tags": []
   },
   "source": [
    "Test Data Predictions"
   ]
  },
  {
   "cell_type": "code",
   "execution_count": 11,
   "id": "3235d4af",
   "metadata": {
    "papermill": {
     "duration": 2.115177,
     "end_time": "2023-10-19T16:16:41.192189",
     "exception": false,
     "start_time": "2023-10-19T16:16:39.077012",
     "status": "completed"
    },
    "tags": []
   },
   "outputs": [
    {
     "name": "stdout",
     "output_type": "stream",
     "text": [
      "          Id                             Title  \\\n",
      "0          1             Edgar's Lunch (1998)    \n",
      "1          2         La guerra de papá (1977)    \n",
      "2          3      Off the Beaten Track (2010)    \n",
      "3          4           Meu Amigo Hindu (2015)    \n",
      "4          5                Er nu zhai (1955)    \n",
      "...      ...                               ...   \n",
      "54195  54196   \"Tales of Light & Dark\" (2013)    \n",
      "54196  54197      Der letzte Mohikaner (1965)    \n",
      "54197  54198              Oliver Twink (2007)    \n",
      "54198  54199                Slipstream (1973)    \n",
      "54199  54200        Curitiba Zero Grau (2010)    \n",
      "\n",
      "                                             Description  \\\n",
      "0       L.R. Brane loves his life - his car, his apar...   \n",
      "1       Spain, March 1964: Quico is a very naughty ch...   \n",
      "2       One year in the life of Albin and his family ...   \n",
      "3       His father has died, he hasn't spoken with hi...   \n",
      "4       Before he was known internationally as a mart...   \n",
      "...                                                  ...   \n",
      "54195   Covering multiple genres, Tales of Light & Da...   \n",
      "54196   As Alice and Cora Munro attempt to find their...   \n",
      "54197   A movie 169 years in the making. Oliver Twist...   \n",
      "54198   Popular, but mysterious rock D.J Mike Mallard...   \n",
      "54199   Curitiba is a city in movement, with rhythms ...   \n",
      "\n",
      "                                           Text_cleaning Predicted_Genre  \n",
      "0      brane loves life car apartment job especially ...          drama   \n",
      "1      spain march quico naughty child three belongin...          drama   \n",
      "2      one year life albin family shepherds north tra...    documentary   \n",
      "3      father died hasnt spoken brother years serious...          drama   \n",
      "4      known internationally martial arts superstar b...          drama   \n",
      "...                                                  ...             ...  \n",
      "54195  covering multiple genres tales light dark anth...          drama   \n",
      "54196  alice cora munro attempt find father british o...          drama   \n",
      "54197  movie years making oliver twist artful dodger ...         comedy   \n",
      "54198  popular mysterious rock mike mallard askew bro...          drama   \n",
      "54199  curitiba city movement rhythms different pulsa...    documentary   \n",
      "\n",
      "[54200 rows x 5 columns]\n"
     ]
    }
   ],
   "source": [
    "X_test_predictions = classifier.predict(X_test)\n",
    "test_data['Predicted_Genre'] = X_test_predictions\n",
    "\n",
    "test_data.to_csv('predicted_genres.csv', index=False)\n",
    "\n",
    "print(test_data)"
   ]
  },
  {
   "cell_type": "code",
   "execution_count": null,
   "id": "687f953a-9e9f-4bc9-9091-7713d18cda86",
   "metadata": {},
   "outputs": [],
   "source": []
  }
 ],
 "metadata": {
  "kernelspec": {
   "display_name": "Python 3 (ipykernel)",
   "language": "python",
   "name": "python3"
  },
  "language_info": {
   "codemirror_mode": {
    "name": "ipython",
    "version": 3
   },
   "file_extension": ".py",
   "mimetype": "text/x-python",
   "name": "python",
   "nbconvert_exporter": "python",
   "pygments_lexer": "ipython3",
   "version": "3.11.5"
  },
  "papermill": {
   "default_parameters": {},
   "duration": 463.486007,
   "end_time": "2023-10-19T16:16:42.323917",
   "environment_variables": {},
   "exception": null,
   "input_path": "__notebook__.ipynb",
   "output_path": "__notebook__.ipynb",
   "parameters": {},
   "start_time": "2023-10-19T16:08:58.837910",
   "version": "2.4.0"
  }
 },
 "nbformat": 4,
 "nbformat_minor": 5
}
